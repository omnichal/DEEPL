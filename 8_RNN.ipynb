{
 "cells": [
  {
   "cell_type": "code",
   "execution_count": 1,
   "id": "3c56160f-30dc-40aa-bb2e-4e0229d3b82f",
   "metadata": {},
   "outputs": [],
   "source": [
    "import numpy as np"
   ]
  },
  {
   "cell_type": "code",
   "execution_count": 2,
   "id": "9d7f2f8b-aa18-42a8-b1b7-c75d911a249b",
   "metadata": {},
   "outputs": [],
   "source": [
    "def sigmoid(x):\n",
    "    return 1/(1+np.exp(-x))"
   ]
  },
  {
   "cell_type": "code",
   "execution_count": 3,
   "id": "5fe59486-41c5-4954-b027-8f84c432316c",
   "metadata": {},
   "outputs": [],
   "source": [
    "input_layer=5\n",
    "hidden_layer=10\n",
    "output_layer=1"
   ]
  },
  {
   "cell_type": "code",
   "execution_count": 4,
   "id": "6687a500-3f79-4a91-9a76-ca799a5ffb29",
   "metadata": {},
   "outputs": [],
   "source": [
    "a=np.random.randn(hidden_layer,input_layer)\n",
    "b=np.random.randn(hidden_layer,hidden_layer)\n",
    "c=np.random.randn(output_layer,hidden_layer)"
   ]
  },
  {
   "cell_type": "code",
   "execution_count": 5,
   "id": "ffb831a1-21c0-4b6d-9490-4362809e3733",
   "metadata": {},
   "outputs": [],
   "source": [
    "bh=np.zeros((hidden_layer,1))\n",
    "by=np.zeros((output_layer,1))\n",
    "h=np.zeros((10,1))"
   ]
  },
  {
   "cell_type": "code",
   "execution_count": 6,
   "id": "15caa81a-858b-4455-8ba9-a1a703fb8342",
   "metadata": {},
   "outputs": [],
   "source": [
    "def rnn_step(x,h):\n",
    "    h=sigmoid(np.dot(a,x)+np.dot(b,h)+bh)\n",
    "    y=np.dot(c,h)+by\n",
    "    return h,y"
   ]
  },
  {
   "cell_type": "code",
   "execution_count": 7,
   "id": "57956153-d89e-418b-9839-4c21d4c1ff1f",
   "metadata": {},
   "outputs": [],
   "source": [
    "x = [np.random.randn(5,1) for _ in range(6)]"
   ]
  },
  {
   "cell_type": "code",
   "execution_count": 8,
   "id": "fd2b92fd-eb90-49ca-8c25-71f5f004e9c1",
   "metadata": {},
   "outputs": [
    {
     "name": "stdout",
     "output_type": "stream",
     "text": [
      "Time step 0, Output: [[0.66396243]]\n",
      "Time step 1, Output: [[0.70699266]]\n",
      "Time step 2, Output: [[0.00309687]]\n",
      "Time step 3, Output: [[-1.0352816]]\n",
      "Time step 4, Output: [[1.33932595]]\n",
      "Time step 5, Output: [[0.12102384]]\n"
     ]
    }
   ],
   "source": [
    "for t in range(len(x)):\n",
    "    h,y = rnn_step(x[t],h)\n",
    "    print(f\"Time step {t}, Output: {y}\")"
   ]
  },
  {
   "cell_type": "code",
   "execution_count": null,
   "id": "8cf6b0c9-18ff-4901-879c-8e18324108a4",
   "metadata": {},
   "outputs": [],
   "source": []
  }
 ],
 "metadata": {
  "kernelspec": {
   "display_name": "Python 3 (ipykernel)",
   "language": "python",
   "name": "python3"
  },
  "language_info": {
   "codemirror_mode": {
    "name": "ipython",
    "version": 3
   },
   "file_extension": ".py",
   "mimetype": "text/x-python",
   "name": "python",
   "nbconvert_exporter": "python",
   "pygments_lexer": "ipython3",
   "version": "3.12.0"
  }
 },
 "nbformat": 4,
 "nbformat_minor": 5
}
