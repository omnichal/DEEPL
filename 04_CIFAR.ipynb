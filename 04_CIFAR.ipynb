{
 "cells": [
  {
   "cell_type": "code",
   "execution_count": null,
   "id": "3804bcb0-054b-421c-a238-d776cc34662a",
   "metadata": {},
   "outputs": [],
   "source": [
    "import numpy as np\n",
    "import matplotlib.pyplot as plt\n",
    "import tensorflow as tf\n",
    "from tensorflow.keras.models import Sequential\n",
    "from tensorflow.keras.layers import Dense, Flatten\n",
    "from tensorflow.keras.preprocessing.image import ImageDataGenerator\n",
    "import random"
   ]
  },
  {
   "cell_type": "code",
   "execution_count": null,
   "id": "5da8aefc-5b09-47d0-baf3-d685bd6ed42b",
   "metadata": {},
   "outputs": [],
   "source": [
    "# Parameters\n",
    "image_size = (32, 32)  # CIFAR-10 images are 32x32 pixels\n",
    "batch_size = 100\n",
    "num_classes = 10\n",
    "epochs = 30"
   ]
  },
  {
   "cell_type": "code",
   "execution_count": null,
   "id": "e607b275-92c3-4121-8f71-72711263ef92",
   "metadata": {},
   "outputs": [],
   "source": [
    "# Directory paths\n",
    "train_dir = r\"E:\\DL\\Deep Learning Datasets\\4 CIFAR 10 images dataset\\cifar10_dataset\\cifar10_dataset\"  # Replace with the path to your training images folder\n",
    "test_dir = r\"E:\\DL\\Deep Learning Datasets\\4 CIFAR 10 images dataset\\cifar10_dataset\\cifar10_dataset\"    # Replace with the path to your test images folder"
   ]
  },
  {
   "cell_type": "code",
   "execution_count": null,
   "id": "1ef307af-1077-426f-8ee1-1833b2d19557",
   "metadata": {},
   "outputs": [],
   "source": [
    "# Load images and labels using ImageDataGenerator\n",
    "train_datagen = ImageDataGenerator(rescale=1.0/255.0)\n",
    "test_datagen = ImageDataGenerator(rescale=1.0/255.0)\n",
    "\n",
    "train_generator = train_datagen.flow_from_directory(\n",
    "    train_dir,\n",
    "    target_size=image_size,\n",
    "    batch_size=batch_size,\n",
    "    class_mode='categorical',\n",
    "    shuffle=True\n",
    ")\n",
    "\n",
    "test_generator = test_datagen.flow_from_directory(\n",
    "    test_dir,\n",
    "    target_size=image_size,\n",
    "    batch_size=batch_size,\n",
    "    class_mode='categorical',\n",
    "    shuffle=False\n",
    ")"
   ]
  },
  {
   "cell_type": "code",
   "execution_count": null,
   "id": "730a0f34-953a-452d-b58c-297d543997b0",
   "metadata": {},
   "outputs": [],
   "source": [
    "# Build the model\n",
    "model = Sequential([\n",
    "    Flatten(input_shape=(32, 32, 3)),\n",
    "    Dense(50, activation='relu'),\n",
    "    Dense(20, activation='relu'),\n",
    "    Dense(num_classes, activation='softmax')\n",
    "])\n",
    "\n",
    "model.compile(optimizer='sgd', loss='categorical_crossentropy', metrics=['accuracy'])"
   ]
  },
  {
   "cell_type": "code",
   "execution_count": null,
   "id": "7989367a-98fe-4435-b455-996631a47dcf",
   "metadata": {},
   "outputs": [],
   "source": [
    "# Train the model\n",
    "model.fit(train_generator, epochs=epochs, batch_size=batch_size)"
   ]
  },
  {
   "cell_type": "code",
   "execution_count": null,
   "id": "9465ebe3-fe8b-4ca0-bcfb-3e938fc3fbec",
   "metadata": {},
   "outputs": [],
   "source": [
    "# Predict on test images\n",
    "pred = model.predict(test_generator)\n",
    "class_names = ['Airplane', 'Automobile', 'Bird', 'Cat', 'Deer', 'Dog', 'Frog', 'Horse', 'Ship', 'Truck']"
   ]
  },
  {
   "cell_type": "code",
   "execution_count": null,
   "id": "ed39d9ae-2c61-472f-b86f-e9a0249ebf35",
   "metadata": {},
   "outputs": [],
   "source": [
    "# # Display a random test image with prediction\n",
    "# n = random.randint(0, len(test_generator.filenames) - 1)\n",
    "\n",
    "batch = next(test_generator)  # Get the next batch of images\n",
    "images, labels = batch\n",
    "n = random.randint(0, len(images) - 1)"
   ]
  },
  {
   "cell_type": "code",
   "execution_count": null,
   "id": "3f7b9301-c6c4-4447-a0fc-850a5897899c",
   "metadata": {},
   "outputs": [],
   "source": [
    "# Load and display the nth image from test set\n",
    "image, label = test_generator[n]  # Get image and label\n",
    "plt.imshow(image[0])  # Display the first image in the batch\n",
    "pred_class = class_names[np.argmax(pred[n])]\n",
    "plt.title(pred_class)\n",
    "plt.axis('off')\n",
    "plt.show()"
   ]
  },
  {
   "cell_type": "code",
   "execution_count": null,
   "id": "b7a80edf-3341-485e-9304-5fb7b2a17cc9",
   "metadata": {},
   "outputs": [],
   "source": []
  }
 ],
 "metadata": {
  "kernelspec": {
   "display_name": "Python 3 (ipykernel)",
   "language": "python",
   "name": "python3"
  },
  "language_info": {
   "codemirror_mode": {
    "name": "ipython",
    "version": 3
   },
   "file_extension": ".py",
   "mimetype": "text/x-python",
   "name": "python",
   "nbconvert_exporter": "python",
   "pygments_lexer": "ipython3",
   "version": "3.12.0"
  }
 },
 "nbformat": 4,
 "nbformat_minor": 5
}
